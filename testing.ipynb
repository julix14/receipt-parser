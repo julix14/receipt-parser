{
 "cells": [
  {
   "cell_type": "markdown",
   "metadata": {},
   "source": [
    "# Testings for the OCR\n",
    "1. Imports"
   ]
  },
  {
   "cell_type": "code",
   "execution_count": 3,
   "metadata": {},
   "outputs": [],
   "source": [
    "from pdf2image import convert_from_path\n",
    "import os\n",
    "from PIL import Image\n",
    "import tempfile\n"
   ]
  },
  {
   "cell_type": "markdown",
   "metadata": {},
   "source": [
    "### Create one big image from the pdf file"
   ]
  },
  {
   "cell_type": "code",
   "execution_count": 14,
   "metadata": {},
   "outputs": [],
   "source": [
    "filename = 'samples/receipt1'\n",
    "with tempfile.TemporaryDirectory() as path:\n",
    "    images_from_path = convert_from_path(f'{filename}.pdf', output_folder=path)\n",
    "    image_width, image_height = images_from_path[0].size\n",
    "    new_image = Image.new('1', (image_width, image_height*len(images_from_path)))\n",
    "    for index, image in enumerate(images_from_path):\n",
    "        image.save(f'{filename}_{index+1}of{len(images_from_path)}.jpg', 'JPEG')\n",
    "        new_image.paste(image,(0, image_height*index))\n",
    "    new_image.save(f'{filename}-merged.jpg', 'JPEG')\n",
    "    \n",
    "\n",
    "\n"
   ]
  }
 ],
 "metadata": {
  "kernelspec": {
   "display_name": "env",
   "language": "python",
   "name": "python3"
  },
  "language_info": {
   "codemirror_mode": {
    "name": "ipython",
    "version": 3
   },
   "file_extension": ".py",
   "mimetype": "text/x-python",
   "name": "python",
   "nbconvert_exporter": "python",
   "pygments_lexer": "ipython3",
   "version": "3.11.6"
  }
 },
 "nbformat": 4,
 "nbformat_minor": 2
}
