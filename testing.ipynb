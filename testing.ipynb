{
 "cells": [
  {
   "cell_type": "markdown",
   "metadata": {},
   "source": [
    "# Testings for the OCR\n",
    "1. Imports"
   ]
  },
  {
   "cell_type": "code",
   "execution_count": 3,
   "metadata": {},
   "outputs": [],
   "source": [
    "from pdf2image import convert_from_path\n",
    "import os\n",
    "from PIL import Image\n",
    "import tempfile\n"
   ]
  },
  {
   "cell_type": "markdown",
   "metadata": {},
   "source": [
    "### Create one big image from the pdf file"
   ]
  },
  {
   "cell_type": "code",
   "execution_count": 19,
   "metadata": {},
   "outputs": [],
   "source": [
    "filename = 'samples/receipt1'\n",
    "with tempfile.TemporaryDirectory() as path:\n",
    "    images_from_path = convert_from_path(f'{filename}.pdf', output_folder=path)\n",
    "    image_width, image_height = images_from_path[0].size\n",
    "    new_image = Image.new('1', (image_width, image_height*len(images_from_path)))\n",
    "    for index, image in enumerate(images_from_path):\n",
    "        image.save(f'{filename}_{index+1}of{len(images_from_path)}.jpg', 'JPEG')\n",
    "        new_image.paste(image,(0, image_height*index))\n",
    "    new_image.save(f'{filename}-merged.jpg', 'JPEG')\n",
    "    \n"
   ]
  },
  {
   "cell_type": "markdown",
   "metadata": {},
   "source": [
    "### Transform image into text"
   ]
  },
  {
   "cell_type": "code",
   "execution_count": 24,
   "metadata": {},
   "outputs": [
    {
     "name": "stdout",
     "output_type": "stream",
     "text": [
      "['receipt2-merged.jpg', 'receipt4-merged.jpg', 'receipt1-merged.jpg', 'receipt3-merged.jpg']\n",
      "processing receipt2-merged.jpg\n",
      "finished receipt2-merged.jpg\n",
      "processing receipt4-merged.jpg\n",
      "finished receipt4-merged.jpg\n",
      "processing receipt1-merged.jpg\n",
      "finished receipt1-merged.jpg\n",
      "processing receipt3-merged.jpg\n",
      "finished receipt3-merged.jpg\n"
     ]
    }
   ],
   "source": [
    "from heapq import merge\n",
    "import pytesseract\n",
    "\n",
    "merged_images = os.listdir('samples')\n",
    "merged_images = [x for x in merged_images if x.endswith('merged.jpg')]\n",
    "print(merged_images)\n",
    "for merged_image in merged_images:\n",
    "    print(f'processing {merged_image}')\n",
    "    text = pytesseract.image_to_string(Image.open(f'samples/{merged_image}'), lang='deu')\n",
    "    merged_image = merged_image.replace('.jpg', '')\n",
    "    with open(f'results/{merged_image}.txt', 'w') as f:\n",
    "        f.write(text)\n",
    "        print(f'finished {merged_image}')\n",
    "\n"
   ]
  },
  {
   "cell_type": "markdown",
   "metadata": {},
   "source": [
    "# Let the RegEx fun begin"
   ]
  },
  {
   "cell_type": "code",
   "execution_count": null,
   "metadata": {},
   "outputs": [],
   "source": []
  }
 ],
 "metadata": {
  "kernelspec": {
   "display_name": "env",
   "language": "python",
   "name": "python3"
  },
  "language_info": {
   "codemirror_mode": {
    "name": "ipython",
    "version": 3
   },
   "file_extension": ".py",
   "mimetype": "text/x-python",
   "name": "python",
   "nbconvert_exporter": "python",
   "pygments_lexer": "ipython3",
   "version": "3.11.6"
  }
 },
 "nbformat": 4,
 "nbformat_minor": 2
}
